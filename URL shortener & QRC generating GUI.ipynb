{
 "cells": [
  {
   "cell_type": "markdown",
   "metadata": {},
   "source": [
    "# URL shortener & QRC generating GUI"
   ]
  },
  {
   "cell_type": "code",
   "execution_count": 1,
   "metadata": {},
   "outputs": [],
   "source": [
    "# Import packanges\n",
    "# If something is not installed, run - !pip install package_name\n",
    "from tkinter import *\n",
    "from tkinter import filedialog\n",
    "from tkinter import messagebox\n",
    "import pyshorteners\n",
    "import pyqrcode\n",
    "import png\n",
    "from pyqrcode import QRCode\n",
    "import clipboard"
   ]
  },
  {
   "cell_type": "code",
   "execution_count": 2,
   "metadata": {},
   "outputs": [
    {
     "data": {
      "text/plain": [
       "''"
      ]
     },
     "execution_count": 2,
     "metadata": {},
     "output_type": "execute_result"
    }
   ],
   "source": [
    "# Make GUI window\n",
    "win = Tk()\n",
    "win.geometry(\"350x160\")\n",
    "win.resizable(width=False, height=False)\n",
    "win.title(\"URL Shortener/QR Code Generator\")"
   ]
  },
  {
   "cell_type": "raw",
   "metadata": {},
   "source": [
    "Make functions"
   ]
  },
  {
   "cell_type": "code",
   "execution_count": 3,
   "metadata": {},
   "outputs": [],
   "source": [
    "# Link shortening function\n",
    "def link_short():\n",
    "    global sl\n",
    "    sl = str(e1.get())\n",
    "    global s\n",
    "    s = pyshorteners.Shortener().tinyurl.short(sl)\n",
    "    lkshort.set(s)"
   ]
  },
  {
   "cell_type": "code",
   "execution_count": 4,
   "metadata": {},
   "outputs": [],
   "source": [
    "# Copy the link text on cardboard function\n",
    "def copy_link():\n",
    "    clipboard.copy(s)"
   ]
  },
  {
   "cell_type": "code",
   "execution_count": 5,
   "metadata": {},
   "outputs": [],
   "source": [
    "# QR code generating function\n",
    "def qrc_gen():\n",
    "    try:\n",
    "        url = pyqrcode.create(sl)\n",
    "        url.png('myqrcode.png', scale = 10)\n",
    "        messagebox.showinfo(\" \", \"QR Code Generated!\")\n",
    "    except:\n",
    "        messagebox.showerror(\"Error\", \"Please provide valid input!\")"
   ]
  },
  {
   "cell_type": "code",
   "execution_count": 6,
   "metadata": {},
   "outputs": [],
   "source": [
    "# Make label, button and position them on the gui window\n",
    "lkshort=StringVar();\n",
    "Label(win, text=\"Write link here: \").place(x = 20, y = 40)\n",
    "b1 = Button(win, text=\"Shorten the Link\", command=link_short, fg = \"black\", bg = \"light grey\", font=\"-size 9 -weight bold\").place(x = 20, y = 100)\n",
    "b2 = Button(win, text=\"Copy Link\", command=copy_link, fg = \"black\", bg = \"light grey\", font=\"-size 9 -weight bold\").place(x = 140, y = 100)\n",
    "b3 = Button(win, text=\"Generate QR code\", command=qrc_gen, fg = \"black\", bg = \"light grey\", font=\"-size 9 -weight bold\").place(x = 220, y = 100)"
   ]
  },
  {
   "cell_type": "code",
   "execution_count": 7,
   "metadata": {},
   "outputs": [],
   "source": [
    "# Make the text input section\n",
    "e1 = Entry(win)\n",
    "e1.place(x = 120, y = 40)\n",
    "e2 = Entry(win, textvariable=lkshort)\n",
    "e2.place(x = 120, y = 70)"
   ]
  },
  {
   "cell_type": "code",
   "execution_count": 8,
   "metadata": {},
   "outputs": [],
   "source": [
    "win.mainloop()"
   ]
  }
 ],
 "metadata": {
  "kernelspec": {
   "display_name": "Python 3",
   "language": "python",
   "name": "python3"
  },
  "language_info": {
   "codemirror_mode": {
    "name": "ipython",
    "version": 3
   },
   "file_extension": ".py",
   "mimetype": "text/x-python",
   "name": "python",
   "nbconvert_exporter": "python",
   "pygments_lexer": "ipython3",
   "version": "3.7.6"
  }
 },
 "nbformat": 4,
 "nbformat_minor": 4
}
